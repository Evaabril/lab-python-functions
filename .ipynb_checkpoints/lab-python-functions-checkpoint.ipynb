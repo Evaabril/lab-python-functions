{
 "cells": [
  {
   "cell_type": "markdown",
   "id": "25d7736c-ba17-4aff-b6bb-66eba20fbf4e",
   "metadata": {},
   "source": [
    "# Lab | Functions"
   ]
  },
  {
   "cell_type": "markdown",
   "id": "0c581062-8967-4d93-b06e-62833222f930",
   "metadata": {
    "tags": []
   },
   "source": [
    "## Exercise: Managing Customer Orders with Functions\n",
    "\n",
    "In the previous exercise, you improved the code for managing customer orders by using loops and flow control. Now, let's take it a step further and refactor the code by introducing functions.\n",
    "\n",
    "Follow the steps below to complete the exercise:\n",
    "\n",
    "1. Define a function named `initialize_inventory` that takes `products` as a parameter. Inside the function, implement the code for initializing the inventory dictionary using a loop and user input.\n",
    "\n",
    "2. Define a function named `get_customer_orders` that takes no parameters. Inside the function, implement the code for prompting the user to enter the product names using a loop. The function should return the `customer_orders` set.\n",
    "\n",
    "3. Define a function named `update_inventory` that takes `customer_orders` and `inventory` as parameters. Inside the function, implement the code for updating the inventory dictionary based on the customer orders.\n",
    "\n",
    "4. Define a function named `calculate_order_statistics` that takes `customer_orders` and `products` as parameters. Inside the function, implement the code for calculating the order statistics (total products ordered, and percentage of unique products ordered). The function should return these values.\n",
    "\n",
    "5. Define a function named `print_order_statistics` that takes `order_statistics` as a parameter. Inside the function, implement the code for printing the order statistics.\n",
    "\n",
    "6. Define a function named `print_updated_inventory` that takes `inventory` as a parameter. Inside the function, implement the code for printing the updated inventory.\n",
    "\n",
    "7. Call the functions in the appropriate sequence to execute the program and manage customer orders.\n",
    "\n",
    "Hints for functions:\n",
    "\n",
    "- Consider the input parameters required for each function and their return values.\n",
    "- Utilize function parameters and return values to transfer data between functions.\n",
    "- Test your functions individually to ensure they work correctly.\n",
    "\n",
    "\n"
   ]
  },
  {
   "cell_type": "code",
   "execution_count": 4,
   "id": "51dbfa57-97da-4a93-89af-9a68b868ae78",
   "metadata": {},
   "outputs": [
    {
     "name": "stdin",
     "output_type": "stream",
     "text": [
      "Enter the quantity of t-shirt:  58\n",
      "Enter the quantity of mug:  65\n",
      "Enter the quantity of hat:  96\n",
      "Enter the quantity of book:  74\n",
      "Enter the quantity of keychain:  23\n"
     ]
    },
    {
     "name": "stdout",
     "output_type": "stream",
     "text": [
      "{'t-shirt': 58, 'mug': 65, 'hat': 96, 'book': 74, 'keychain': 23}\n"
     ]
    }
   ],
   "source": [
    "# 1. Define a function named initialize_inventory that takes products as a parameter. Inside the function, implement the code for initializing the inventory dictionary using a loop and user input\n",
    "products = [\"t-shirt\", \"mug\", \"hat\", \"book\", \"keychain\"]\n",
    "inventory = {}\n",
    "def initialize_inventory(products):\n",
    "    for product in products:\n",
    "        cantidad = int(input(f\"Enter the quantity of {product}: \"))\n",
    "        inventory[product] = cantidad\n",
    "    print(inventory)\n",
    "\n",
    "initialize_inventory(products)"
   ]
  },
  {
   "cell_type": "code",
   "execution_count": 5,
   "id": "265520b0-e49f-42a1-bd71-a1f5b282acce",
   "metadata": {},
   "outputs": [
    {
     "name": "stdin",
     "output_type": "stream",
     "text": [
      "Que deseas comprar?: hat\n"
     ]
    },
    {
     "name": "stdout",
     "output_type": "stream",
     "text": [
      "Has elegido hat\n"
     ]
    },
    {
     "name": "stdin",
     "output_type": "stream",
     "text": [
      "Deseas seguir comprando?:  si\n",
      "Que deseas comprar?: book\n"
     ]
    },
    {
     "name": "stdout",
     "output_type": "stream",
     "text": [
      "Has elegido book\n"
     ]
    },
    {
     "name": "stdin",
     "output_type": "stream",
     "text": [
      "Deseas seguir comprando?:  no\n"
     ]
    },
    {
     "name": "stdout",
     "output_type": "stream",
     "text": [
      "Gracias por tu compra\n"
     ]
    },
    {
     "data": {
      "text/plain": [
       "{'book', 'hat'}"
      ]
     },
     "execution_count": 5,
     "metadata": {},
     "output_type": "execute_result"
    }
   ],
   "source": [
    "# 2. Define a function named get_customer_orders that takes no parameters. Inside the function, implement the code for prompting the user to enter the product names using a loop. The function should return the customer_orders set\n",
    "customer_orders = set()\n",
    "def get_customer_orders():\n",
    "    y = \"si\" \n",
    "    while y == \"si\":\n",
    "        x = (input( \"Que deseas comprar?:\"))\n",
    "        customer_orders.add(x)\n",
    "        print (f\"Has elegido {x}\")\n",
    "        y = input(\"Deseas seguir comprando?: \")\n",
    "        set (x)\n",
    "    else:\n",
    "        print (\"Gracias por tu compra\")\n",
    "    return customer_orders\n",
    "get_customer_orders()"
   ]
  },
  {
   "cell_type": "code",
   "execution_count": 6,
   "id": "67950923-0051-4aa6-acef-a24781f09b86",
   "metadata": {},
   "outputs": [
    {
     "name": "stdout",
     "output_type": "stream",
     "text": [
      "{'t-shirt': 58, 'mug': 65, 'hat': 95, 'book': 73, 'keychain': 23}\n"
     ]
    }
   ],
   "source": [
    "# 3. Define a function named update_inventory that takes customer_orders and inventory as parameters. Inside the function, implement the code for updating the inventory dictionary based on the customer orders.\n",
    "\n",
    "def update_inventory(customer_orders,inventory):\n",
    "    for product in customer_orders:\n",
    "        inventory[product] = inventory[product]-1\n",
    "    print (inventory)\n",
    "update_inventory(customer_orders,inventory)"
   ]
  },
  {
   "cell_type": "code",
   "execution_count": 40,
   "id": "f0a07712-fccf-4736-85a0-ae3d55511485",
   "metadata": {},
   "outputs": [],
   "source": [
    "# 4. Define a function named calculate_order_statistics that takes customer_orders and products as parameters. Inside the function, implement the code for calculating the order statistics (total products ordered, and percentage of unique products ordered). The function should return these values.\n",
    "\n",
    "def calculate_order_statistics(customer_orders,products):\n",
    "    total_products_ordered = len(customer_orders)\n",
    "    total_products = len(products)\n",
    "    percentage_of_unique_products_ordered = (total_products_ordered/total_products)*100\n",
    "    order_statistics = (total_products_ordered,percentage_of_unique_products_ordered)\n",
    "    return order_statistics\n",
    "order_statistics = calculate_order_statistics(customer_orders,products)"
   ]
  },
  {
   "cell_type": "code",
   "execution_count": 42,
   "id": "fe9b52ea-6eac-498d-b6ab-f49c21c5694d",
   "metadata": {},
   "outputs": [
    {
     "name": "stdout",
     "output_type": "stream",
     "text": [
      "Total Products Ordered: 2\n",
      "Percentage of Products Ordered: 40.0%\n"
     ]
    }
   ],
   "source": [
    "# 5. Define a function named `print_order_statistics` that takes `order_statistics` as a parameter. Inside the function, implement the code for printing the order statistics.\n",
    "def print_order_statistics(order_statistics):\n",
    "    print(f\"Total Products Ordered: {order_statistics[0]}\")\n",
    "    print(f\"Percentage of Products Ordered: {order_statistics[1]}%\")\n",
    "print_order_statistics(order_statistics)    "
   ]
  },
  {
   "cell_type": "code",
   "execution_count": 44,
   "id": "481c047f-c6a0-4c15-9281-c82bc2e70951",
   "metadata": {},
   "outputs": [
    {
     "name": "stdout",
     "output_type": "stream",
     "text": [
      "New inventory: \n",
      "{'t-shirt': 58, 'mug': 65, 'hat': 95, 'book': 73, 'keychain': 23}\n"
     ]
    }
   ],
   "source": [
    "# 6. Define a function named print_updated_inventory that takes inventory as a parameter. Inside the function, implement the code for printing the updated inventory.\n",
    "\n",
    "def print_updated_inventory(inventory):\n",
    "    print(\"New inventory: \")\n",
    "    print(inventory)\n",
    "print_updated_inventory(inventory)    "
   ]
  },
  {
   "cell_type": "code",
   "execution_count": 45,
   "id": "497b7a3b-d889-44e5-8456-deb373dd40f5",
   "metadata": {},
   "outputs": [
    {
     "name": "stdin",
     "output_type": "stream",
     "text": [
      "Que deseas comprar?: hat\n"
     ]
    },
    {
     "name": "stdout",
     "output_type": "stream",
     "text": [
      "Has elegido hat\n"
     ]
    },
    {
     "name": "stdin",
     "output_type": "stream",
     "text": [
      "Deseas seguir comprando?:  book\n"
     ]
    },
    {
     "name": "stdout",
     "output_type": "stream",
     "text": [
      "Gracias por tu compra\n",
      "{'t-shirt': 58, 'mug': 65, 'hat': 94, 'book': 72, 'keychain': 23}\n",
      "Total Products Ordered: 2\n",
      "Percentage of Products Ordered: 40.0%\n",
      "New inventory: \n",
      "{'t-shirt': 58, 'mug': 65, 'hat': 94, 'book': 72, 'keychain': 23}\n"
     ]
    }
   ],
   "source": [
    "# 7. Call the functions in the appropriate sequence to execute the program and manage customer orders.\n",
    "def main():\n",
    "    while not inventory:\n",
    "        print(\"Inventory is empty. Please load your porducts\")\n",
    "        initialize_inventory(inventory)\n",
    "    customer_orders = get_customer_orders()\n",
    "    update_inventory(customer_orders,inventory)\n",
    "    order_statistics = calculate_order_statistics(customer_orders,products)\n",
    "    print_order_statistics(order_statistics)\n",
    "    print_updated_inventory(inventory)\n",
    "main()"
   ]
  },
  {
   "cell_type": "code",
   "execution_count": null,
   "id": "97cb2c66-d258-4a65-9b2b-6b17a5b4918b",
   "metadata": {},
   "outputs": [],
   "source": []
  }
 ],
 "metadata": {
  "kernelspec": {
   "display_name": "Python 3 (ipykernel)",
   "language": "python",
   "name": "python3"
  },
  "language_info": {
   "codemirror_mode": {
    "name": "ipython",
    "version": 3
   },
   "file_extension": ".py",
   "mimetype": "text/x-python",
   "name": "python",
   "nbconvert_exporter": "python",
   "pygments_lexer": "ipython3",
   "version": "3.11.7"
  }
 },
 "nbformat": 4,
 "nbformat_minor": 5
}
